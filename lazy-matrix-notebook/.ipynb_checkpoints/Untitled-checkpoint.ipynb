{
 "cells": [
  {
   "cell_type": "markdown",
   "metadata": {},
   "source": []
  },
  {
   "cell_type": "code",
   "execution_count": null,
   "metadata": {},
   "outputs": [],
   "source": []
  },
  {
   "cell_type": "code",
   "execution_count": 1,
   "metadata": {},
   "outputs": [
    {
     "name": "stderr",
     "output_type": "stream",
     "text": [
      "┌ Info: Recompiling stale cache file /home/santiago/.julia/compiled/v1.2/Gridap/ZIiA2.ji for Gridap [56d4f2e9-7ea1-5844-9cf6-b9c51ca7ce8e]\n",
      "└ @ Base loading.jl:1240\n"
     ]
    }
   ],
   "source": [
    "using Gridap"
   ]
  },
  {
   "cell_type": "markdown",
   "metadata": {},
   "source": [
    "Duck typing"
   ]
  },
  {
   "cell_type": "code",
   "execution_count": 5,
   "metadata": {},
   "outputs": [
    {
     "ename": "UndefVarError",
     "evalue": "UndefVarError: a not defined",
     "output_type": "error",
     "traceback": [
      "UndefVarError: a not defined",
      "",
      "Stacktrace:",
      " [1] top-level scope at In[5]:3"
     ]
    }
   ],
   "source": [
    "# Duck typing example\n",
    "f(a,b) = a+b # The types of a and b have not been defined\n",
    "f(1.0,2.0)   # + is a valid binary operation for Real\n",
    "f(1.0,a)     # but Real + String not defined, run-time error"
   ]
  },
  {
   "cell_type": "code",
   "execution_count": 8,
   "metadata": {},
   "outputs": [
    {
     "name": "stdout",
     "output_type": "stream",
     "text": [
      "\n",
      ";  @ In[7]:1 within `f'\n",
      "define double @julia_f_16621(double, double) {\n",
      "top:\n",
      "; ┌ @ float.jl:395 within `+'\n",
      "   %2 = fadd double %0, %1\n",
      "; └\n",
      "  ret double %2\n",
      "}\n"
     ]
    }
   ],
   "source": [
    "@code_llvm f(1.0,1.0)"
   ]
  },
  {
   "cell_type": "code",
   "execution_count": 10,
   "metadata": {},
   "outputs": [
    {
     "name": "stdout",
     "output_type": "stream",
     "text": [
      "\n",
      ";  @ In[10]:1 within `restricted_f'\n",
      "define double @julia_restricted_f_16638(double, double) {\n",
      "top:\n",
      "; ┌ @ float.jl:395 within `+'\n",
      "   %2 = fadd double %0, %1\n",
      "; └\n",
      "  ret double %2\n",
      "}\n"
     ]
    }
   ],
   "source": [
    "# You do not improve by restricting types\n",
    "restricted_f(a::Number,b::Number) = a+b\n",
    "@code_llvm restricted_f(1.0,1.0)"
   ]
  },
  {
   "cell_type": "code",
   "execution_count": null,
   "metadata": {},
   "outputs": [],
   "source": [
    "# Inherit behaviour, not fields (attributes)"
   ]
  },
  {
   "cell_type": "code",
   "execution_count": 12,
   "metadata": {},
   "outputs": [],
   "source": [
    "abstract type AbstractEllipse end\n",
    "\n",
    "\n",
    "struct Ellipse <: AbstractEllipse\n",
    "    major_axis::Real\n",
    "    minor_axis::Real\n",
    "end\n",
    "\n",
    "major_axis(e::Ellipse) = e.major_axis\n",
    "minor_axis(e::Ellipse) = e.minor_axis\n",
    "    \n",
    "struct Circle <: AbstractEllipse\n",
    "    radius::Real # We are not inheriting fields\n",
    "end\n",
    "\n",
    "# the Ellipse actions have full sense for circles\n",
    "major_axis(c::Circle) = e.radius\n",
    "minor_axis(c::Circle) = e.radius\n",
    "radius(c::Circle) = e.radius\n",
    "\n",
    "begin scaling(e,sx,sy)\n",
    "    Ellipse(major_axis(e)*sx,minor_axis(e)*sy)\n",
    "end\n",
    "\n",
    "    "
   ]
  }
 ],
 "metadata": {
  "kernelspec": {
   "display_name": "Julia 1.2.0",
   "language": "julia",
   "name": "julia-1.2"
  },
  "language_info": {
   "file_extension": ".jl",
   "mimetype": "application/julia",
   "name": "julia",
   "version": "1.2.0"
  }
 },
 "nbformat": 4,
 "nbformat_minor": 2
}
