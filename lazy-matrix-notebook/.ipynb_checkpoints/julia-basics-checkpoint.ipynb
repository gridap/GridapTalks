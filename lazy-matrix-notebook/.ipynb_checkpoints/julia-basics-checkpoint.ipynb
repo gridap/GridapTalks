{
 "cells": [
  {
   "cell_type": "markdown",
   "metadata": {},
   "source": [
    "# Creating lazy matrices in Julia\n",
    "\n",
    "Lazy matrix: An *ummutable* matrix whose entries are *not stored in memory* but *computed on-the-fly under demand*\n",
    "\n",
    "Let us start using a registered Julia package in our code, `LinearAlgebra`, which provides `det`, `tr`, \\ backslash solve..."
   ]
  },
  {
   "cell_type": "code",
   "execution_count": 1,
   "metadata": {},
   "outputs": [],
   "source": [
    "using LinearAlgebra"
   ]
  },
  {
   "cell_type": "markdown",
   "metadata": {},
   "source": [
    "We want to create a new class of lazy matrices and use all the methods for arrays in Julia.\n",
    "\n",
    "## New lazy types\n",
    "\n",
    "We create an abstract type `LazyMatrix` for lazy matrices and one concrete version `MyLazyMatrix` of it for squared matrices such that `A[i,j] = α*i + β*j`.\n",
    "\n",
    "In order to use the tons of code in `Julia` (and packages like `LinearAlgebra`...) for `AbstractArray`, we want our types to be subtypes of `AbstractMatrix`.\n",
    "\n",
    "The types are parameterised by the entry type, e.g., `Float64`"
   ]
  },
  {
   "cell_type": "code",
   "execution_count": 2,
   "metadata": {},
   "outputs": [],
   "source": [
    "abstract type LazyMatrix{T} <: AbstractMatrix{T} end\n",
    "\n",
    "struct MyLazyMatrix{T} <: LazyMatrix{T}\n",
    "  dim\n",
    "  α::T\n",
    "  β::T\n",
    "end"
   ]
  },
  {
   "cell_type": "markdown",
   "metadata": {},
   "source": [
    "`MyLazyMatrix` must implement the interface of `AbstractMatrix` (actions), you don't care about fields of the concrete `Julia` implementation `Array` (or `Matrix`). **We inherit actions, not data.** To design your type *interfaces (APIs)* is essential. "
   ]
  },
  {
   "cell_type": "code",
   "execution_count": 3,
   "metadata": {},
   "outputs": [],
   "source": [
    "# Implement the AbstractArray interface\n",
    "import Base: size\n",
    "import Base: getindex\n",
    "\n",
    "# Just implement the abstract interface\n",
    "size(a::MyLazyMatrix) = (a.dim,a.dim)\n",
    "function getindex(A::MyLazyMatrix, i, j)\n",
    "  A.α*i + A.β*j\n",
    "end;"
   ]
  },
  {
   "cell_type": "markdown",
   "metadata": {},
   "source": [
    "Now, we can create a lazy matrix. "
   ]
  },
  {
   "cell_type": "code",
   "execution_count": 4,
   "metadata": {},
   "outputs": [
    {
     "data": {
      "text/plain": [
       "2×2 MyLazyMatrix{Float64}:\n",
       " 2.0  3.5\n",
       " 2.5  4.0"
      ]
     },
     "execution_count": 4,
     "metadata": {},
     "output_type": "execute_result"
    }
   ],
   "source": [
    "a = MyLazyMatrix{Float64}(2,0.5,1.5)"
   ]
  },
  {
   "cell_type": "markdown",
   "metadata": {},
   "source": [
    "Everything is lazy..."
   ]
  },
  {
   "cell_type": "code",
   "execution_count": 5,
   "metadata": {},
   "outputs": [
    {
     "data": {
      "text/plain": [
       "MyLazyMatrix{Float64}"
      ]
     },
     "execution_count": 5,
     "metadata": {},
     "output_type": "execute_result"
    }
   ],
   "source": [
    "typeof(a) # My Lazy matrix, no memory"
   ]
  },
  {
   "cell_type": "code",
   "execution_count": 6,
   "metadata": {},
   "outputs": [
    {
     "name": "stdout",
     "output_type": "stream",
     "text": [
      "  0.000000 seconds (1 allocation: 32 bytes)\n"
     ]
    }
   ],
   "source": [
    "@time MyLazyMatrix{Float64}(2,0.5,1.5);"
   ]
  },
  {
   "cell_type": "code",
   "execution_count": 7,
   "metadata": {},
   "outputs": [
    {
     "name": "stdout",
     "output_type": "stream",
     "text": [
      "  0.000000 seconds (1 allocation: 32 bytes)\n"
     ]
    }
   ],
   "source": [
    "@time MyLazyMatrix{Float64}(200000,0.5,1.5);"
   ]
  },
  {
   "cell_type": "markdown",
   "metadata": {},
   "source": [
    "Now, we can reuse **all** the `Julia` `Base` code for `AbstractArray` (also in `LinearAlgebra` package)"
   ]
  },
  {
   "cell_type": "code",
   "execution_count": 8,
   "metadata": {},
   "outputs": [
    {
     "data": {
      "text/plain": [
       "2×2 Array{Float64,2}:\n",
       " 4.0  7.0\n",
       " 5.0  8.0"
      ]
     },
     "execution_count": 8,
     "metadata": {},
     "output_type": "execute_result"
    }
   ],
   "source": [
    "b = [1.0,1.0]\n",
    "x2 = a\\b # implemented in Julia\n",
    "a+a # Implemented in Julia\n",
    "2*a # Implemented in Julia"
   ]
  },
  {
   "cell_type": "markdown",
   "metadata": {},
   "source": [
    "But operations implemented within Julia for `AbstractArray` are not lazy"
   ]
  },
  {
   "cell_type": "code",
   "execution_count": 9,
   "metadata": {},
   "outputs": [
    {
     "data": {
      "text/plain": [
       "Array{Float64,2}"
      ]
     },
     "execution_count": 9,
     "metadata": {},
     "output_type": "execute_result"
    }
   ],
   "source": [
    "typeof(5.0*a) # A Julia Array, in memory, not lazy"
   ]
  },
  {
   "cell_type": "markdown",
   "metadata": {},
   "source": [
    "## Expression trees for `LazyMatrix`"
   ]
  },
  {
   "cell_type": "markdown",
   "metadata": {},
   "source": [
    "We could create **lazy unary operations** for `LazyMatrix`. \n",
    "\n",
    "We create a new type that given a `LazyMatrix{T}` and a kernel that can act on entries of type `T`, generates a new type of lazy matrix `UnaryOpLazyMatrix`. Again, just implement the interface!\n",
    "\n",
    "Note: we are *duck typing* `getindex`"
   ]
  },
  {
   "cell_type": "code",
   "execution_count": 10,
   "metadata": {},
   "outputs": [],
   "source": [
    "# Lazy unary operations over LazyMatrix\n",
    "struct UnaryOpLazyMatrix{T} <: LazyMatrix{T}\n",
    "  fun\n",
    "  mat::LazyMatrix{T}\n",
    "end\n",
    "\n",
    "# Implement the AbstractArray interface\n",
    "size(self::UnaryOpLazyMatrix) = size(self.mat)\n",
    "function getindex(self::UnaryOpLazyMatrix, i, j)\n",
    "  self.fun(self.mat[i,j])\n",
    "end;"
   ]
  },
  {
   "cell_type": "code",
   "execution_count": 11,
   "metadata": {},
   "outputs": [
    {
     "data": {
      "text/plain": [
       "2×2 UnaryOpLazyMatrix{Float64}:\n",
       " 10.0    44.875\n",
       " 17.625  66.0"
      ]
     },
     "execution_count": 11,
     "metadata": {},
     "output_type": "execute_result"
    }
   ],
   "source": [
    "myfun(x) = x^3+2\n",
    "myfun_a = UnaryOpLazyMatrix(myfun,a) # Lazy evaluation"
   ]
  },
  {
   "cell_type": "markdown",
   "metadata": {},
   "source": [
    "It is easy to add some syntatic sugar"
   ]
  },
  {
   "cell_type": "code",
   "execution_count": null,
   "metadata": {},
   "outputs": [],
   "source": []
  },
  {
   "cell_type": "code",
   "execution_count": 12,
   "metadata": {},
   "outputs": [
    {
     "data": {
      "text/plain": [
       "sqrt (generic function with 20 methods)"
      ]
     },
     "execution_count": 12,
     "metadata": {},
     "output_type": "execute_result"
    }
   ],
   "source": [
    "import Base: *, sqrt\n",
    "\n",
    "*(α::Number,a::LazyMatrix) = UnaryOpLazyMatrix(x -> α*x, a)\n",
    "# Functions are first class citizens (anonymous function)\n",
    "sqrt(a::LazyMatrix) = UnaryOpLazyMatrix(sqrt, a)"
   ]
  },
  {
   "cell_type": "markdown",
   "metadata": {},
   "source": [
    "Now, lazy unary operations ready!"
   ]
  },
  {
   "cell_type": "code",
   "execution_count": 13,
   "metadata": {},
   "outputs": [
    {
     "data": {
      "text/plain": [
       "UnaryOpLazyMatrix{Float64}"
      ]
     },
     "execution_count": 13,
     "metadata": {},
     "output_type": "execute_result"
    }
   ],
   "source": [
    "typeof(5.0*a) # Lazy implementation"
   ]
  },
  {
   "cell_type": "code",
   "execution_count": 14,
   "metadata": {},
   "outputs": [
    {
     "data": {
      "text/plain": [
       "UnaryOpLazyMatrix{Float64}"
      ]
     },
     "execution_count": 14,
     "metadata": {},
     "output_type": "execute_result"
    }
   ],
   "source": [
    "typeof(sqrt(a)) # Lazy implementation"
   ]
  },
  {
   "cell_type": "markdown",
   "metadata": {},
   "source": [
    "We can do the same for binary operations..."
   ]
  },
  {
   "cell_type": "code",
   "execution_count": 15,
   "metadata": {},
   "outputs": [
    {
     "data": {
      "text/plain": [
       "Array{Float64,2}"
      ]
     },
     "execution_count": 15,
     "metadata": {},
     "output_type": "execute_result"
    }
   ],
   "source": [
    "typeof(a+a) # A Julia Array, in memory, not lazy"
   ]
  },
  {
   "cell_type": "markdown",
   "metadata": {},
   "source": [
    "We can do the same for binary operations"
   ]
  },
  {
   "cell_type": "code",
   "execution_count": 16,
   "metadata": {},
   "outputs": [
    {
     "data": {
      "text/plain": [
       "getindex (generic function with 205 methods)"
      ]
     },
     "execution_count": 16,
     "metadata": {},
     "output_type": "execute_result"
    }
   ],
   "source": [
    "# Lazy binary operations over LazyMatrix\n",
    "struct BinaryOpLazyMatrix{T} <: LazyMatrix{T}\n",
    "  op\n",
    "  mat1::LazyMatrix{T}\n",
    "  mat2::LazyMatrix{T}\n",
    "end\n",
    "\n",
    "# Implement interface\n",
    "size(self::BinaryOpLazyMatrix) = size(self.mat1)\n",
    "function getindex(self::BinaryOpLazyMatrix,i,j)\n",
    "  self.op(self.mat1[i,j],self.mat2[i,j])\n",
    "end"
   ]
  },
  {
   "cell_type": "markdown",
   "metadata": {},
   "source": [
    "We can add some syntatic sugar for + and - operations over these matrices. By the way, we are using metaprogramming below..."
   ]
  },
  {
   "cell_type": "code",
   "execution_count": 17,
   "metadata": {},
   "outputs": [],
   "source": [
    "import Base: +, -\n",
    "\n",
    "for op in (:+,:-)\n",
    "  # Metaprogramming (macros)\n",
    "  @eval begin\n",
    "    $op(a::LazyMatrix,b::LazyMatrix) = BinaryOpLazyMatrix{eltype(a)}($op,a,b)\n",
    "  end\n",
    "end"
   ]
  },
  {
   "cell_type": "code",
   "execution_count": 18,
   "metadata": {},
   "outputs": [
    {
     "data": {
      "text/plain": [
       "BinaryOpLazyMatrix{Float64}"
      ]
     },
     "execution_count": 18,
     "metadata": {},
     "output_type": "execute_result"
    }
   ],
   "source": [
    "b = MyLazyMatrix{Float64}(2,0.5,2.5)\n",
    "typeof(a+b) # lazy"
   ]
  },
  {
   "cell_type": "code",
   "execution_count": 19,
   "metadata": {},
   "outputs": [
    {
     "data": {
      "text/plain": [
       "BinaryOpLazyMatrix{Float64}"
      ]
     },
     "execution_count": 19,
     "metadata": {},
     "output_type": "execute_result"
    }
   ],
   "source": [
    "c = MyLazyMatrix{Float64}(2,5.0,2.5)\n",
    "typeof(5*a+2*b+c) # lazy"
   ]
  },
  {
   "cell_type": "markdown",
   "metadata": {},
   "source": [
    "We can now create complex operation trees..."
   ]
  },
  {
   "cell_type": "code",
   "execution_count": 20,
   "metadata": {},
   "outputs": [
    {
     "data": {
      "text/plain": [
       "-12.1417470950733"
      ]
     },
     "execution_count": 20,
     "metadata": {},
     "output_type": "execute_result"
    }
   ],
   "source": [
    "d = sqrt(a)+5*a-b\n",
    "det(d) # Here is where all the computation are performed"
   ]
  },
  {
   "cell_type": "markdown",
   "metadata": {},
   "source": [
    "All these objects are **ummutable** and **lazy**, so it is extremely cheap to create new objects, no computation until entries explicitly required. "
   ]
  },
  {
   "cell_type": "markdown",
   "metadata": {},
   "source": [
    "Let me note that we have been using **duck typing** above. If it doesn't duck, error in run-time. Look at the `getindex` in `UnaryOpLazyMatrix`"
   ]
  },
  {
   "cell_type": "code",
   "execution_count": 21,
   "metadata": {
    "scrolled": false
   },
   "outputs": [
    {
     "ename": "MethodError",
     "evalue": "MethodError: objects of type String are not callable",
     "output_type": "error",
     "traceback": [
      "MethodError: objects of type String are not callable",
      "",
      "Stacktrace:",
      " [1] getindex(::UnaryOpLazyMatrix{Float64}, ::Int64, ::Int64) at ./In[10]:10",
      " [2] top-level scope at In[21]:2"
     ]
    }
   ],
   "source": [
    "e = UnaryOpLazyMatrix(\"a\",a);\n",
    "e[1,1]"
   ]
  }
 ],
 "metadata": {
  "kernelspec": {
   "display_name": "Julia 1.4.0",
   "language": "julia",
   "name": "julia-1.4"
  },
  "language_info": {
   "file_extension": ".jl",
   "mimetype": "application/julia",
   "name": "julia",
   "version": "1.4.0"
  }
 },
 "nbformat": 4,
 "nbformat_minor": 2
}
